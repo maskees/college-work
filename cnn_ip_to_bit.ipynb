{
  "nbformat": 4,
  "nbformat_minor": 0,
  "metadata": {
    "colab": {
      "provenance": [],
      "authorship_tag": "ABX9TyMYXZEXYNFQWVrelBo4bw2k",
      "include_colab_link": true
    },
    "kernelspec": {
      "name": "python3",
      "display_name": "Python 3"
    },
    "language_info": {
      "name": "python"
    }
  },
  "cells": [
    {
      "cell_type": "markdown",
      "metadata": {
        "id": "view-in-github",
        "colab_type": "text"
      },
      "source": [
        "<a href=\"https://colab.research.google.com/github/maskees/college-work/blob/main/cnn_ip_to_bit.ipynb\" target=\"_parent\"><img src=\"https://colab.research.google.com/assets/colab-badge.svg\" alt=\"Open In Colab\"/></a>"
      ]
    },
    {
      "cell_type": "code",
      "source": [
        "def is_valid_ip(ip):\n",
        "    parts = ip.split(\".\")\n",
        "    if len(parts) != 4:\n",
        "        return False\n",
        "    for part in parts:\n",
        "        if not part.isdigit():\n",
        "            return False\n",
        "        num = int(part)\n",
        "        if num < 0 or num > 255:\n",
        "            return False\n",
        "    return True\n",
        "\n",
        "def ip_to_binary(ip):\n",
        "    return '.'.join(f\"{int(part):08b}\" for part in ip.split(\".\"))\n",
        "def binary_to_ip(binary_str):\n",
        "    try:\n",
        "        return '.'.join(str(int(part, 2)) for part in binary_str.split(\".\"))\n",
        "    except:\n",
        "        return \"Invalid binary format\"\n",
        "\n",
        "def get_ip_class(ip):\n",
        "    first_octet = int(ip.split(\".\")[0])\n",
        "    if 1 <= first_octet <= 126:\n",
        "        return \"A\"\n",
        "    elif 128 <= first_octet <= 191:\n",
        "        return \"B\"\n",
        "    elif 192 <= first_octet <= 223:\n",
        "        return \"C\"\n",
        "    elif 224 <= first_octet <= 239:\n",
        "        return \"D (Multicast)\"\n",
        "    elif 240 <= first_octet <= 255:\n",
        "        return \"E (Experimental)\"\n",
        "    else:\n",
        "        return \"Invalid\"\n",
        "\n",
        "def networks_and_hosts(ip_class):\n",
        "    if ip_class == \"A\":\n",
        "        return (2**7 - 2, 2**24 - 2)\n",
        "    elif ip_class == \"B\":\n",
        "        return (2**14 - 2, 2**16 - 2)\n",
        "    elif ip_class == \"C\":\n",
        "        return (2**21 - 2, 2**8 - 2)\n",
        "    else:\n",
        "        return (None, None)\n",
        "\n",
        "ip_input = input(\"Enter an IP address: \")\n",
        "if not is_valid_ip(ip_input):\n",
        "    print(\"Invalid IP address\")\n",
        "else:\n",
        "    print(f\"IP in binary: {ip_to_binary(ip_input)}\")\n",
        "    ip_class = get_ip_class(ip_input)\n",
        "    print(f\"Class: {ip_class}\")\n",
        "    if ip_class in [\"A\", \"B\", \"C\"]:\n",
        "        networks, hosts = networks_and_hosts(ip_class)\n",
        "        print(f\"No. of Networks: {networks}\")\n",
        "        print(f\"No. of Hosts per Network: {hosts}\")"
      ],
      "metadata": {
        "id": "_K-MNhkVd2QI"
      },
      "execution_count": null,
      "outputs": []
    },
    {
      "cell_type": "code",
      "source": [],
      "metadata": {
        "id": "7e6nnk9_g3Za"
      },
      "execution_count": null,
      "outputs": []
    }
  ]
}